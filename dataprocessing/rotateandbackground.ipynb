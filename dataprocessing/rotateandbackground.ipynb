{
 "cells": [
  {
   "cell_type": "markdown",
   "id": "394a2075",
   "metadata": {},
   "source": [
    "# Data multiplication\n",
    "\n",
    "In case if you do no thave enough training data you can multiply it by rotating or adding coloured background\n",
    "\n",
    "\n"
   ]
  },
  {
   "cell_type": "markdown",
   "id": "17de7d3f",
   "metadata": {},
   "source": [
    "## Colouring background\n",
    "\n",
    "\n",
    "Gets images from files folder. Returns to files folder"
   ]
  },
  {
   "cell_type": "code",
   "execution_count": 1,
   "id": "c2a20379",
   "metadata": {},
   "outputs": [],
   "source": [
    "import cv2\n",
    "import os\n",
    "import numpy as np"
   ]
  },
  {
   "cell_type": "code",
   "execution_count": 2,
   "id": "b645fd1e",
   "metadata": {},
   "outputs": [],
   "source": [
    "toprocess = \"toprocess/\"\n",
    "root = \"./../files/train/\"\n",
    "yes_no_pathes = [\"yes/\",\"no/\"]"
   ]
  },
  {
   "cell_type": "code",
   "execution_count": 3,
   "id": "6de8e27a",
   "metadata": {
    "scrolled": true
   },
   "outputs": [],
   "source": [
    "BG_COLOR = 209\n",
    "BG_SIGMA = 5\n",
    "MONOCHROME = 1\n",
    "\n",
    "def blank_image(width=256, height=256, background=BG_COLOR):\n",
    "    img = np.full((height, width, MONOCHROME), background, np.uint8)\n",
    "    return img\n",
    "\n",
    "\n",
    "def add_noise(img, sigma=BG_SIGMA):\n",
    "    width, height, ch = img.shape\n",
    "    n = noise(width, height, sigma=sigma)\n",
    "    img = img + n\n",
    "    return img.clip(0, 255)\n",
    "\n",
    "\n",
    "def noise(width, height, ratio=1, sigma=BG_SIGMA):\n",
    "    mean = 0\n",
    "    assert width % ratio == 0, \"Can't scale image with of size {} and ratio {}\".format(width, ratio)\n",
    "    assert height % ratio == 0, \"Can't scale image with of size {} and ratio {}\".format(height, ratio)\n",
    "\n",
    "    h = int(height / ratio)\n",
    "    w = int(width / ratio)\n",
    "\n",
    "    result = np.random.normal(mean, sigma, (w, h, MONOCHROME))\n",
    "    if ratio > 1:\n",
    "        result = cv2.resize(result, dsize=(width, height), interpolation=cv2.INTER_LINEAR)\n",
    "    return result.reshape((width, height, MONOCHROME))\n",
    "\n",
    "\n",
    "def texture(image, sigma=BG_SIGMA, turbulence=2):\n",
    "    result = image.astype(float)\n",
    "    cols, rows, ch = image.shape\n",
    "    ratio = cols\n",
    "    while not ratio == 1:\n",
    "        result += noise(cols, rows, ratio, sigma=sigma)\n",
    "        ratio = (ratio // turbulence) or 1\n",
    "    cut = np.clip(result, 0, 255)\n",
    "    return cut.astype(np.uint8)"
   ]
  },
  {
   "cell_type": "code",
   "execution_count": 4,
   "id": "54cf297d",
   "metadata": {},
   "outputs": [],
   "source": [
    "bg1 = add_noise(texture(blank_image(background=230), sigma=4), sigma=10)\n",
    "bg2 = add_noise(texture(blank_image(background=20), sigma=8), sigma=20)\n",
    "bg3 = add_noise(texture(blank_image(background=230), sigma=4), sigma=1)\n",
    "bg4 = add_noise(texture(blank_image(background=230), sigma=10), sigma=5)"
   ]
  },
  {
   "cell_type": "code",
   "execution_count": 5,
   "id": "f348def2",
   "metadata": {},
   "outputs": [],
   "source": [
    "def add_background(path, name):\n",
    "    image = cv2.imread(path + toprocess+name, cv2.IMREAD_UNCHANGED)\n",
    "    image = cv2.resize(image, (256,256))\n",
    "    trans_mask = image[:, :, 3] == 0\n",
    "    # replace areas of transparency with white and not transparent\n",
    "    image[trans_mask] = bg1[trans_mask]\n",
    "    nimage = cv2.cvtColor(image, cv2.COLOR_BGRA2BGR)\n",
    "    cv2.imwrite(path + toprocess + name.replace('.', f'_{1}.'), nimage)\n",
    "    image[trans_mask] = bg2[trans_mask]\n",
    "    nimage = cv2.cvtColor(image, cv2.COLOR_BGRA2BGR)\n",
    "    cv2.imwrite(path+toprocess  + name.replace('.', f'_{2}.'), nimage)\n",
    "    image[trans_mask] = bg3[trans_mask]\n",
    "    nimage = cv2.cvtColor(image, cv2.COLOR_BGRA2BGR)\n",
    "    cv2.imwrite(path+toprocess  + name.replace('.', f'_{3}.'), nimage)\n",
    "    image[trans_mask] = bg4[trans_mask]\n",
    "    nimage = cv2.cvtColor(image, cv2.COLOR_BGRA2BGR)\n",
    "    cv2.imwrite(path +toprocess + name.replace('.', f'_{4}.'), nimage)\n",
    "    \n"
   ]
  },
  {
   "cell_type": "code",
   "execution_count": 6,
   "id": "b40768f6",
   "metadata": {},
   "outputs": [],
   "source": [
    "\n",
    "for yes_no in yes_no_pathes:\n",
    "    path = root+yes_no+toprocess\n",
    "    files = [f for f in os.listdir(path) if os.path.isfile(os.path.join(path, f)) and f.split(\".\")[-1]==\"png\"]\n",
    "    for f in files:\n",
    "        add_background(root+yes_no, f)"
   ]
  },
  {
   "cell_type": "markdown",
   "id": "45470cd2",
   "metadata": {},
   "source": [
    "## Rotating images"
   ]
  },
  {
   "cell_type": "code",
   "execution_count": 7,
   "id": "6db47638",
   "metadata": {},
   "outputs": [],
   "source": [
    "import cv2\n",
    "import os\n",
    "import numpy as np"
   ]
  },
  {
   "cell_type": "code",
   "execution_count": 8,
   "id": "cc209e96",
   "metadata": {},
   "outputs": [],
   "source": [
    "def rotate_image(image, angle):\n",
    "  image_center = tuple(np.array(image.shape[1::-1]) / 2)\n",
    "  rot_mat = cv2.getRotationMatrix2D(image_center, angle, 1.0)\n",
    "  result = cv2.warpAffine(image, rot_mat, image.shape[1::-1], flags=cv2.INTER_LINEAR)\n",
    "  return result\n",
    "\n",
    "def add_rotations(path, name, yes_no):\n",
    "    image = cv2.imread(path+name, cv2.IMREAD_COLOR)\n",
    "    for i in range(0, 271, 90):\n",
    "        nimage = rotate_image(image, i)\n",
    "        cv2.imwrite(root+yes_no +name.replace('.', f'_{i}.'),nimage)\n",
    "        "
   ]
  },
  {
   "cell_type": "code",
   "execution_count": 9,
   "id": "c9c67547",
   "metadata": {},
   "outputs": [],
   "source": [
    "for yes_no in yes_no_pathes:\n",
    "    path = root+yes_no+toprocess\n",
    "    files = [f for f in os.listdir(path) if os.path.isfile(os.path.join(path, f))]\n",
    "    for name in files:\n",
    "        add_rotations(path, name, yes_no)"
   ]
  }
 ],
 "metadata": {
  "kernelspec": {
   "display_name": "Python 3 (ipykernel)",
   "language": "python",
   "name": "python3"
  },
  "language_info": {
   "codemirror_mode": {
    "name": "ipython",
    "version": 3
   },
   "file_extension": ".py",
   "mimetype": "text/x-python",
   "name": "python",
   "nbconvert_exporter": "python",
   "pygments_lexer": "ipython3",
   "version": "3.9.17"
  }
 },
 "nbformat": 4,
 "nbformat_minor": 5
}
